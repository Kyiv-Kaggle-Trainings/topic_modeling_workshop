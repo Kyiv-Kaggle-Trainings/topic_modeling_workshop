{
 "cells": [
  {
   "cell_type": "markdown",
   "metadata": {},
   "source": [
    "# Programming Assignment\n",
    "## Готовим LDA по рецептам"
   ]
  },
  {
   "cell_type": "markdown",
   "metadata": {},
   "source": [
    "Как вы уже знаете, в тематическом моделировании делается предположение о том, что для определения тематики порядок слов в документе не важен; об этом гласит гипотеза <<мешка слов>>. Сегодня мы будем работать с несколько нестандартной для тематического моделирования коллекцией, которую можно назвать <<мешком ингредиентов>>, потому что на состоит из рецептов блюд разных кухонь. Тематические модели ищут слова, которые часто вместе встречаются в документах, и составляют из них темы. Мы попробуем применить эту идею к рецептам и найти кулинарные <<темы>>. Эта коллекция хороша тем, что не требует предобработки. Кроме того, эта задача достаточно наглядно иллюстрирует принцип работы тематических моделей.\n",
    "\n",
    "Для выполнения заданий, помимо часто используемых в курсе библиотек, потребуются модули json и gensim. Первый входит в дистрибутив Anaconda, второй можно поставить командой \n",
    "\n",
    "pip install gensim\n",
    "\n",
    "Построение модели занимает некоторое время. На ноутбуке с процессором Intel Core i7 и тактовой частотой 2400 МГц на построение одной модели уходит менее 10 минут."
   ]
  },
  {
   "cell_type": "markdown",
   "metadata": {},
   "source": [
    "### Загрузка данных"
   ]
  },
  {
   "cell_type": "markdown",
   "metadata": {},
   "source": [
    "Коллекция дана в json-формате: для каждого рецепта известны его id, кухня (\"cuisine\") и список ингредиентов, в него входящих. Загрузить данные можно с помощью модуля json (он входит в дистрибутив Anaconda):"
   ]
  },
  {
   "cell_type": "code",
   "execution_count": 3,
   "metadata": {
    "collapsed": true
   },
   "outputs": [],
   "source": [
    "import json"
   ]
  },
  {
   "cell_type": "code",
   "execution_count": 4,
   "metadata": {
    "collapsed": false
   },
   "outputs": [],
   "source": [
    "with open(\"recipes.json\") as f:\n",
    "    recipes = json.load(f)"
   ]
  },
  {
   "cell_type": "code",
   "execution_count": 5,
   "metadata": {
    "collapsed": false
   },
   "outputs": [
    {
     "data": {
      "text/plain": [
       "39774"
      ]
     },
     "execution_count": 5,
     "metadata": {},
     "output_type": "execute_result"
    }
   ],
   "source": [
    "y = [x['cuisine'] for x in recipes]\n",
    "len(y)"
   ]
  },
  {
   "cell_type": "markdown",
   "metadata": {},
   "source": [
    "### Составление корпуса"
   ]
  },
  {
   "cell_type": "code",
   "execution_count": 6,
   "metadata": {
    "collapsed": true
   },
   "outputs": [],
   "source": [
    "from gensim import corpora, models\n",
    "import numpy as np"
   ]
  },
  {
   "cell_type": "markdown",
   "metadata": {},
   "source": [
    "Наша коллекция небольшая и влезает в оперативную память. Gensim может работать с такими данными и не требует их сохранения на диск в специальном формате. Для этого коллекция должна быть представлена в виде списка списков, каждый внутренний список соответствует отдельному документу и состоит из его слов. Пример коллекции из двух документов: \n",
    "\n",
    "[[\"hello\", \"world\"], [\"programming\", \"in\", \"python\"]]\n",
    "\n",
    "Преобразуем наши данные в такой формат, а затем создадим объекты corpus и dictionary, с которыми будет работать модель."
   ]
  },
  {
   "cell_type": "code",
   "execution_count": 7,
   "metadata": {
    "collapsed": true
   },
   "outputs": [],
   "source": [
    "texts = [recipe[\"ingredients\"] for recipe in recipes]\n",
    "dictionary = corpora.Dictionary(texts)   # составляем словарь\n",
    "corpus = [dictionary.doc2bow(text) for text in texts]  # составляем корпус документов"
   ]
  },
  {
   "cell_type": "markdown",
   "metadata": {},
   "source": [
    "У объекта dictionary есть две полезных переменных: dictionary.id2token и dictionary.token2id; эти словари позволяют находить соответствие между ингредиентами и их индексами."
   ]
  },
  {
   "cell_type": "markdown",
   "metadata": {},
   "source": [
    "### Обучение модели\n",
    "Вам может понадобиться [документация](https://radimrehurek.com/gensim/models/ldamodel.html) LDA в gensim."
   ]
  },
  {
   "cell_type": "markdown",
   "metadata": {},
   "source": [
    "__Задание 1.__ Обучите модель LDA с 40 темами, установив количество проходов по коллекции 5 и оставив остальные параметры по умолчанию. Затем вызовите метод модели show_topics, указав количество тем 40 и количество токенов 10, и сохраните результат (топы ингредиентов в темах) в отдельную переменную. Если при вызове метода show_topics указать параметр formatted=True, то топы ингредиентов будет удобно выводить на печать, если formatted=False, будет удобно работать со списком программно. Выведите топы на печать, рассмотрите темы, а затем ответьте на вопрос:\n",
    "\n",
    "Сколько раз ингредиенты \"salt\", \"sugar\", \"water\", \"mushrooms\", \"chicken\", \"eggs\" встретились среди топов-10 тем? При ответе __не нужно__ учитывать составные ингредиенты, например, \"hot water\".\n",
    "\n",
    "Передайте 6 чисел в функцию save_answers1 и загрузите сгенерированный файл в форму.\n",
    "\n",
    "У gensim нет возможности фиксировать случайное приближение через параметры метода, но библиотека использует numpy для инициализации матриц. Поэтому, по утверждению автора библиотеки, фиксировать случайное приближение нужно командой, которая написана в следующей ячейке. __Перед строкой кода с построением модели обязательно вставляйте указанную строку фиксации random.seed.__"
   ]
  },
  {
   "cell_type": "code",
   "execution_count": 8,
   "metadata": {
    "collapsed": false
   },
   "outputs": [
    {
     "name": "stdout",
     "output_type": "stream",
     "text": [
      "CPU times: user 1min 59s, sys: 1.57 s, total: 2min 1s\n",
      "Wall time: 2min 3s\n"
     ]
    }
   ],
   "source": [
    "np.random.seed(76543)\n",
    "%time ldamodel = models.ldamodel.LdaModel(corpus, id2word=dictionary, num_topics=40, passes=5)"
   ]
  },
  {
   "cell_type": "code",
   "execution_count": 9,
   "metadata": {
    "collapsed": false
   },
   "outputs": [
    {
     "data": {
      "text/plain": [
       "[(0,\n",
       "  [(u'cooking spray', 0.088931683593358526),\n",
       "   (u'salt', 0.083023313122701475),\n",
       "   (u'garlic cloves', 0.079694482383533438),\n",
       "   (u'olive oil', 0.0680566977323325),\n",
       "   (u'chopped onion', 0.06574028630309077),\n",
       "   (u'crushed red pepper', 0.03660342538942804),\n",
       "   (u'fat free less sodium chicken broth', 0.036151588839948144),\n",
       "   (u'black pepper', 0.034352059579260519),\n",
       "   (u'ground black pepper', 0.032028828039852998),\n",
       "   (u'water', 0.03202634654635652)]),\n",
       " (1,\n",
       "  [(u'carrots', 0.084685047417615789),\n",
       "   (u'onions', 0.059477185904889485),\n",
       "   (u'sauce', 0.056696097267259382),\n",
       "   (u'cabbage', 0.056348277206384176),\n",
       "   (u'spinach', 0.046496298177981545),\n",
       "   (u'beef', 0.039387696216511323),\n",
       "   (u'low sodium chicken broth', 0.033278198173197243),\n",
       "   (u'water', 0.032572054032539738),\n",
       "   (u'firm tofu', 0.02946783427136734),\n",
       "   (u'green cabbage', 0.027719405825683077)]),\n",
       " (2,\n",
       "  [(u'cracked black pepper', 0.065793037833935572),\n",
       "   (u'dry red wine', 0.058809351108989154),\n",
       "   (u'shortening', 0.041491648463130429),\n",
       "   (u'beef broth', 0.041121673243871629),\n",
       "   (u'vegetable oil cooking spray', 0.039788950941651489),\n",
       "   (u'grape tomatoes', 0.039484338255465393),\n",
       "   (u'cilantro sprigs', 0.035205806717994434),\n",
       "   (u'french bread', 0.030809498417447789),\n",
       "   (u'dried rosemary', 0.029339305231140554),\n",
       "   (u'all-purpose flour', 0.029082580099877173)]),\n",
       " (3,\n",
       "  [(u'potatoes', 0.13264991233166148),\n",
       "   (u'oil', 0.12392896234858589),\n",
       "   (u'salt', 0.063326733043941166),\n",
       "   (u'chickpeas', 0.059179676560327313),\n",
       "   (u'onions', 0.042020178848626286),\n",
       "   (u'coriander', 0.038367186668332616),\n",
       "   (u'pepper', 0.03446319680249893),\n",
       "   (u'saffron', 0.033048438299776911),\n",
       "   (u'chopped tomatoes', 0.031199828274823364),\n",
       "   (u'vegetables', 0.026229917191349733)]),\n",
       " (4,\n",
       "  [(u'green bell pepper', 0.062137194484359899),\n",
       "   (u'garlic powder', 0.057518365294650431),\n",
       "   (u'cayenne pepper', 0.055607203040325813),\n",
       "   (u'salt', 0.053129801326957084),\n",
       "   (u'paprika', 0.044357251694682451),\n",
       "   (u'onions', 0.035222635468300588),\n",
       "   (u'dried thyme', 0.034801505725109289),\n",
       "   (u'worcestershire sauce', 0.03199020314811063),\n",
       "   (u'onion powder', 0.027267339886862429),\n",
       "   (u'ground black pepper', 0.027067277200853595)]),\n",
       " (5,\n",
       "  [(u'ground cumin', 0.076627285122494199),\n",
       "   (u'salt', 0.052261476695032123),\n",
       "   (u'ground coriander', 0.048314322271712437),\n",
       "   (u'onions', 0.036445389125942917),\n",
       "   (u'olive oil', 0.035941283188257622),\n",
       "   (u'garlic', 0.033314493875509429),\n",
       "   (u'paprika', 0.028238586829496492),\n",
       "   (u'tumeric', 0.025756401308228271),\n",
       "   (u'cayenne pepper', 0.022939776862739521),\n",
       "   (u'garlic cloves', 0.022337497196979011)]),\n",
       " (6,\n",
       "  [(u'ground cinnamon', 0.10667595663455667),\n",
       "   (u'ground nutmeg', 0.087421774887951789),\n",
       "   (u'honey', 0.056105924125548899),\n",
       "   (u'ground allspice', 0.046776482531706465),\n",
       "   (u'raisins', 0.046276683476044959),\n",
       "   (u'ground cloves', 0.045913091159994153),\n",
       "   (u'light brown sugar', 0.043664170427418485),\n",
       "   (u'ground ginger', 0.031187420812889027),\n",
       "   (u'brown sugar', 0.030182049216845919),\n",
       "   (u'margarine', 0.030117163634709381)]),\n",
       " (7,\n",
       "  [(u'zucchini', 0.084742642422514003),\n",
       "   (u'plum tomatoes', 0.080497578113583712),\n",
       "   (u'fresh basil', 0.077370715659880934),\n",
       "   (u'olive oil', 0.073934264873813743),\n",
       "   (u'eggplant', 0.046646113791840429),\n",
       "   (u'salt', 0.039214680830128572),\n",
       "   (u'grated parmesan cheese', 0.030897630465110178),\n",
       "   (u'garlic cloves', 0.029836911250445304),\n",
       "   (u'red bell pepper', 0.029530917231211342),\n",
       "   (u'spaghetti', 0.02864503120588403)]),\n",
       " (8,\n",
       "  [(u'rice', 0.087167378750824115),\n",
       "   (u'cooking oil', 0.077098782201917376),\n",
       "   (u'salt', 0.067277135535202426),\n",
       "   (u'water', 0.058749189922320401),\n",
       "   (u'basmati rice', 0.050622406492365643),\n",
       "   (u'vinegar', 0.048994075835856861),\n",
       "   (u'ginger', 0.045755197636105124),\n",
       "   (u'curry leaves', 0.035831587208417878),\n",
       "   (u'mint leaves', 0.029395533471376984),\n",
       "   (u'red cabbage', 0.023020562542490835)]),\n",
       " (9,\n",
       "  [(u'dried oregano', 0.07891701412529073),\n",
       "   (u'onions', 0.072724015772864206),\n",
       "   (u'garlic', 0.060870846457765818),\n",
       "   (u'tomato sauce', 0.057305229057996253),\n",
       "   (u'salt', 0.05257619989092327),\n",
       "   (u'ground beef', 0.050432908072481929),\n",
       "   (u'diced tomatoes', 0.049080315157360332),\n",
       "   (u'dried basil', 0.043086220699036663),\n",
       "   (u'tomato paste', 0.040347252869253995),\n",
       "   (u'olive oil', 0.034981688994508701)]),\n",
       " (10,\n",
       "  [(u'white wine', 0.049367681116827954),\n",
       "   (u'ground black pepper', 0.048029125078343005),\n",
       "   (u'butter', 0.037340281661360525),\n",
       "   (u'russet potatoes', 0.036477703219749781),\n",
       "   (u'chopped fresh chives', 0.030782680251151689),\n",
       "   (u'kosher salt', 0.029591436646871926),\n",
       "   (u'red potato', 0.027102675306152648),\n",
       "   (u'ham', 0.02662087179123895),\n",
       "   (u'large eggs', 0.025770559902268713),\n",
       "   (u'salt', 0.024067311817708482)]),\n",
       " (11,\n",
       "  [(u'jalapeno chilies', 0.066996273870029252),\n",
       "   (u'salt', 0.06421104365298988),\n",
       "   (u'avocado', 0.050618875873464773),\n",
       "   (u'lime', 0.042149718346097223),\n",
       "   (u'purple onion', 0.03495355405241788),\n",
       "   (u'garlic', 0.034417628909233208),\n",
       "   (u'olive oil', 0.032394638512492871),\n",
       "   (u'fresh cilantro', 0.031557259666404165),\n",
       "   (u'cilantro', 0.030696574173231257),\n",
       "   (u'lime juice', 0.029169836782926367)]),\n",
       " (12,\n",
       "  [(u'cucumber', 0.13387370070367388),\n",
       "   (u'lean ground beef', 0.070426345036020493),\n",
       "   (u'cider vinegar', 0.045773470475447796),\n",
       "   (u'feta cheese', 0.045341315625472375),\n",
       "   (u'lemon wedge', 0.03978298888787881),\n",
       "   (u'romaine lettuce', 0.039380622131585365),\n",
       "   (u'cream', 0.03521028517986851),\n",
       "   (u'cherry tomatoes', 0.03399716798286323),\n",
       "   (u'chili', 0.030538503372421068),\n",
       "   (u'taco seasoning mix', 0.027446808482652053)]),\n",
       " (13,\n",
       "  [(u'sour cream', 0.085502447593804973),\n",
       "   (u'salsa', 0.056321668755972214),\n",
       "   (u'shredded cheddar cheese', 0.04919099595174705),\n",
       "   (u'flour tortillas', 0.048325541653898817),\n",
       "   (u'chili powder', 0.040649866957816319),\n",
       "   (u'black beans', 0.039468024154463516),\n",
       "   (u'green onions', 0.033862702745164501),\n",
       "   (u'ground cumin', 0.031229330247282),\n",
       "   (u'corn tortillas', 0.025747086766038277),\n",
       "   (u'cheddar cheese', 0.023999503101898984)]),\n",
       " (14,\n",
       "  [(u'white sugar', 0.11057378122584116),\n",
       "   (u'sweet potatoes', 0.085889809769788841),\n",
       "   (u'fresh mint', 0.058101769426575994),\n",
       "   (u'black peppercorns', 0.049503586868320452),\n",
       "   (u'fennel seeds', 0.045058371287366547),\n",
       "   (u'red wine', 0.0369689265867073),\n",
       "   (u'vegetable stock', 0.032155649828819771),\n",
       "   (u'sugar', 0.024232419993286628),\n",
       "   (u'maple syrup', 0.02260354568906477),\n",
       "   (u'garlic chili sauce', 0.021670741100373838)]),\n",
       " (15,\n",
       "  [(u'cold water', 0.089901875182646793),\n",
       "   (u'cinnamon sticks', 0.071898066225266385),\n",
       "   (u'boiling water', 0.056970939038014617),\n",
       "   (u'sugar', 0.044393889192307988),\n",
       "   (u'star anise', 0.041122750693504843),\n",
       "   (u'slivered almonds', 0.032580500436037219),\n",
       "   (u'cake flour', 0.029463615896518046),\n",
       "   (u'panko breadcrumbs', 0.026733488705668017),\n",
       "   (u'green olives', 0.026074197283726976),\n",
       "   (u'apple cider vinegar', 0.023535827999710109)]),\n",
       " (16,\n",
       "  [(u'extra-virgin olive oil', 0.10083323829836824),\n",
       "   (u'garlic cloves', 0.059852691103642358),\n",
       "   (u'olive oil', 0.050279471669856322),\n",
       "   (u'flat leaf parsley', 0.046381772171346272),\n",
       "   (u'freshly ground pepper', 0.039457041002068961),\n",
       "   (u'fresh lemon juice', 0.038560812772401705),\n",
       "   (u'salt', 0.03808006015688932),\n",
       "   (u'dry white wine', 0.036468942702369861),\n",
       "   (u'large garlic cloves', 0.032168171728790607),\n",
       "   (u'ground black pepper', 0.029174154327681161)]),\n",
       " (17,\n",
       "  [(u'coconut milk', 0.14039473267660593),\n",
       "   (u'parsley', 0.053520649826206489),\n",
       "   (u'thyme', 0.047876444918555659),\n",
       "   (u'chicken thighs', 0.044859599676256884),\n",
       "   (u'garlic', 0.034839085527598235),\n",
       "   (u'coconut oil', 0.033375879670636863),\n",
       "   (u'onions', 0.033202434624157298),\n",
       "   (u'Thai red curry paste', 0.024500029872723313),\n",
       "   (u'bread', 0.024385440595203894),\n",
       "   (u'salt', 0.019675543148905194)]),\n",
       " (18,\n",
       "  [(u'salt', 0.10286475889374329),\n",
       "   (u'all-purpose flour', 0.090362466014752368),\n",
       "   (u'eggs', 0.086572915929855124),\n",
       "   (u'milk', 0.085189244525206265),\n",
       "   (u'butter', 0.07002848634601011),\n",
       "   (u'baking powder', 0.054567443817826286),\n",
       "   (u'sugar', 0.049774314966074228),\n",
       "   (u'flour', 0.039811370974946109),\n",
       "   (u'baking soda', 0.034297844284951015),\n",
       "   (u'buttermilk', 0.030033979348320791)]),\n",
       " (19,\n",
       "  [(u'curry powder', 0.13496195156332089),\n",
       "   (u'frozen peas', 0.071171290698734901),\n",
       "   (u'long-grain rice', 0.064775826950889029),\n",
       "   (u'sweetened condensed milk', 0.05279927051685962),\n",
       "   (u'greek yogurt', 0.046356566864634095),\n",
       "   (u'egg whites', 0.038102212715093828),\n",
       "   (u'cauliflower', 0.032214229450347236),\n",
       "   (u'cardamom pods', 0.029779082802830412),\n",
       "   (u'black-eyed peas', 0.028101360357825299),\n",
       "   (u'ground cayenne pepper', 0.026441439466019109)]),\n",
       " (20,\n",
       "  [(u'peanut oil', 0.043991370250776068),\n",
       "   (u'ground white pepper', 0.041780605125565154),\n",
       "   (u'beansprouts', 0.035265384249864293),\n",
       "   (u'Sriracha', 0.034646633859531858),\n",
       "   (u'rice noodles', 0.031884377569569015),\n",
       "   (u'medium shrimp', 0.031803769002535995),\n",
       "   (u'peanuts', 0.029756053065311948),\n",
       "   (u'minced ginger', 0.0253796898958716),\n",
       "   (u'fish sauce', 0.025335208152624442),\n",
       "   (u'english cucumber', 0.023862186918150528)]),\n",
       " (21,\n",
       "  [(u'boneless skinless chicken breast halves', 0.11640332568244377),\n",
       "   (u'coarse salt', 0.10706265479411337),\n",
       "   (u'ground pepper', 0.067166318595237084),\n",
       "   (u'sweet onion', 0.060331028757312444),\n",
       "   (u'mayonaise', 0.055043373709271051),\n",
       "   (u'pork tenderloin', 0.042111148412366621),\n",
       "   (u'minced garlic', 0.039634875785878522),\n",
       "   (u'juice', 0.037646860212467291),\n",
       "   (u'minced onion', 0.035496123096479613),\n",
       "   (u'dried parsley', 0.031200914254888978)]),\n",
       " (22,\n",
       "  [(u'diced onions', 0.079666106233620498),\n",
       "   (u'lettuce', 0.053874361311095062),\n",
       "   (u'self rising flour', 0.053581399591004601),\n",
       "   (u'provolone cheese', 0.04767666800158088),\n",
       "   (u'iceberg lettuce', 0.032195728798238239),\n",
       "   (u'frozen pastry puff sheets', 0.028023578678438063),\n",
       "   (u'romano cheese', 0.026366207094139449),\n",
       "   (u'semi-sweet chocolate morsels', 0.024739932878896847),\n",
       "   (u'shredded cheese', 0.024250997391988643),\n",
       "   (u'reduced-fat sour cream', 0.023994981899309382)]),\n",
       " (23,\n",
       "  [(u'lemon juice', 0.18590259676259421),\n",
       "   (u'dijon mustard', 0.092396860942664388),\n",
       "   (u'creole seasoning', 0.050843831695975929),\n",
       "   (u'white pepper', 0.040348907919114801),\n",
       "   (u'fresh orange juice', 0.038844295144291045),\n",
       "   (u'nutmeg', 0.038060844779090879),\n",
       "   (u'kale', 0.028640742093208448),\n",
       "   (u'mayonaise', 0.028356509516377693),\n",
       "   (u'salmon fillets', 0.027525424760357027),\n",
       "   (u'cream cheese, soften', 0.027435155618422611)]),\n",
       " (24,\n",
       "  [(u'sugar', 0.082453218520814164),\n",
       "   (u'whipping cream', 0.072329870172957264),\n",
       "   (u'orange juice', 0.057250463780346775),\n",
       "   (u'hot water', 0.053546189662835815),\n",
       "   (u'chopped garlic', 0.04972179931298535),\n",
       "   (u'orange', 0.049390725220929042),\n",
       "   (u'bananas', 0.03286020336946778),\n",
       "   (u'bread flour', 0.029905571050704398),\n",
       "   (u'water', 0.028949545123102039),\n",
       "   (u'brandy', 0.028938175672233456)]),\n",
       " (25,\n",
       "  [(u'salt', 0.065871753443313905),\n",
       "   (u'cumin seed', 0.062784252638674709),\n",
       "   (u'onions', 0.054114490241465356),\n",
       "   (u'ground turmeric', 0.044684336544209578),\n",
       "   (u'garam masala', 0.041087806617558252),\n",
       "   (u'green chilies', 0.040652071900723667),\n",
       "   (u'clove', 0.040140537637780832),\n",
       "   (u'chili powder', 0.031494442303467242),\n",
       "   (u'tomatoes', 0.031275683612755102),\n",
       "   (u'oil', 0.028312119851508527)]),\n",
       " (26,\n",
       "  [(u'fish sauce', 0.084208641925038935),\n",
       "   (u'white vinegar', 0.046084312302042581),\n",
       "   (u'sugar', 0.041848864506921511),\n",
       "   (u'garlic', 0.036764958396803986),\n",
       "   (u'lime juice', 0.035671568932308301),\n",
       "   (u'vegetable oil', 0.035486682652469521),\n",
       "   (u'shallots', 0.033799280291789115),\n",
       "   (u'water', 0.03036819156857325),\n",
       "   (u'lemongrass', 0.030267956649511488),\n",
       "   (u'red chili peppers', 0.027278543818785264)]),\n",
       " (27,\n",
       "  [(u'grated parmesan cheese', 0.10281313277605159),\n",
       "   (u'warm water', 0.056023143719680403),\n",
       "   (u'salt', 0.055852693884866168),\n",
       "   (u'shredded mozzarella cheese', 0.045719203650082807),\n",
       "   (u'olive oil', 0.043353303369085834),\n",
       "   (u'ricotta cheese', 0.03849792375026375),\n",
       "   (u'active dry yeast', 0.037084913718776175),\n",
       "   (u'mozzarella cheese', 0.035547862325468957),\n",
       "   (u'butter', 0.032079773850890086),\n",
       "   (u'italian seasoning', 0.031181273689060873)]),\n",
       " (28,\n",
       "  [(u'shrimp', 0.19921560106740424),\n",
       "   (u'pork', 0.056731929515849613),\n",
       "   (u'baby spinach', 0.055199861626734993),\n",
       "   (u'jasmine rice', 0.034041225114900882),\n",
       "   (u'unsweetened coconut milk', 0.033342232538592503),\n",
       "   (u'fresh tomatoes', 0.032698858945611677),\n",
       "   (u'noodles', 0.032239892816296793),\n",
       "   (u'black mustard seeds', 0.031090906246052031),\n",
       "   (u'sausage casings', 0.028473920185160508),\n",
       "   (u'sea scallops', 0.024708106354625611)]),\n",
       " (29,\n",
       "  [(u'mushrooms', 0.13370062600240282),\n",
       "   (u'white wine vinegar', 0.082420861230125861),\n",
       "   (u'shallots', 0.047723143819926879),\n",
       "   (u'boneless chicken breast', 0.041587891954967787),\n",
       "   (u'olive oil', 0.033856497284732959),\n",
       "   (u'chopped fresh sage', 0.032934209580945589),\n",
       "   (u'butter', 0.027348052639168341),\n",
       "   (u'chorizo sausage', 0.025859993446401636),\n",
       "   (u'blanched almonds', 0.025701974236252392),\n",
       "   (u'chicken drumsticks', 0.02400690299390475)]),\n",
       " (30,\n",
       "  [(u'large eggs', 0.089062231258919419),\n",
       "   (u'unsalted butter', 0.087749122814195266),\n",
       "   (u'sugar', 0.066706636124197208),\n",
       "   (u'salt', 0.05748755861657566),\n",
       "   (u'all-purpose flour', 0.054236899435070235),\n",
       "   (u'heavy cream', 0.050370914632283124),\n",
       "   (u'whole milk', 0.038227090700873829),\n",
       "   (u'vanilla extract', 0.033379734684661419),\n",
       "   (u'granulated sugar', 0.032895473701459316),\n",
       "   (u'large egg yolks', 0.029049410950041505)]),\n",
       " (31,\n",
       "  [(u'salt', 0.071339350801741086),\n",
       "   (u'ground red pepper', 0.063071473248333787),\n",
       "   (u'water', 0.052144710591120927),\n",
       "   (u'finely chopped onion', 0.052130563741673158),\n",
       "   (u'chopped celery', 0.045768566719169831),\n",
       "   (u'green beans', 0.031759341206338686),\n",
       "   (u'hot pepper sauce', 0.031215682847699142),\n",
       "   (u'long grain white rice', 0.031113719683935153),\n",
       "   (u'chopped onion', 0.030216000571252788),\n",
       "   (u'chopped green bell pepper', 0.028476312336976308)]),\n",
       " (32,\n",
       "  [(u'water', 0.062877818151568066),\n",
       "   (u'fine sea salt', 0.059885257642065287),\n",
       "   (u'lemon zest', 0.050299856797266257),\n",
       "   (u'fresh spinach', 0.048544649363033168),\n",
       "   (u'yukon gold potatoes', 0.041418503772449489),\n",
       "   (u'sesame seeds', 0.035932093547977495),\n",
       "   (u'collard greens', 0.033622654691453181),\n",
       "   (u'parmigiano reggiano cheese', 0.031740243889248607),\n",
       "   (u'rice flour', 0.030882225395951143),\n",
       "   (u'tofu', 0.029141558274488492)]),\n",
       " (33,\n",
       "  [(u'balsamic vinegar', 0.13345457601766358),\n",
       "   (u'dark soy sauce', 0.070321020054338809),\n",
       "   (u'chopped fresh mint', 0.066367003551096579),\n",
       "   (u'baguette', 0.062901103551315507),\n",
       "   (u'broccoli', 0.050702552990295933),\n",
       "   (u'penne', 0.031336646581226438),\n",
       "   (u'mint', 0.031093589359164665),\n",
       "   (u'tequila', 0.028204513804840115),\n",
       "   (u'red kidney beans', 0.019293813234375855),\n",
       "   (u'arugula', 0.018389991254781388)]),\n",
       " (34,\n",
       "  [(u'onions', 0.089085707471460593),\n",
       "   (u'salt', 0.073919225951533843),\n",
       "   (u'garlic', 0.05924380121469653),\n",
       "   (u'olive oil', 0.048618182336489235),\n",
       "   (u'bay leaves', 0.041403856253007028),\n",
       "   (u'ground black pepper', 0.040927384955912617),\n",
       "   (u'chicken stock', 0.037726916953243671),\n",
       "   (u'pepper', 0.037275092357760213),\n",
       "   (u'carrots', 0.036579406224027104),\n",
       "   (u'chicken', 0.031641802885223565)]),\n",
       " (35,\n",
       "  [(u'soy sauce', 0.097333460210104458),\n",
       "   (u'sesame oil', 0.051797356283510683),\n",
       "   (u'sugar', 0.04218296544977318),\n",
       "   (u'corn starch', 0.041984278268559438),\n",
       "   (u'garlic', 0.039126762140688907),\n",
       "   (u'green onions', 0.035174153493348743),\n",
       "   (u'scallions', 0.034526422388543053),\n",
       "   (u'rice vinegar', 0.034279495110043419),\n",
       "   (u'salt', 0.028955740531032934),\n",
       "   (u'water', 0.028487727902946732)]),\n",
       " (36,\n",
       "  [(u'cheese', 0.10850055118031687),\n",
       "   (u'garlic salt', 0.064459690669521785),\n",
       "   (u'rice wine', 0.060875479422394428),\n",
       "   (u'chives', 0.05785705153369422),\n",
       "   (u'chicken breast halves', 0.043411401321535391),\n",
       "   (u'shredded sharp cheddar cheese', 0.040932366001012584),\n",
       "   (u'roasted peanuts', 0.040240696971079085),\n",
       "   (u'Mexican cheese blend', 0.038537740457462215),\n",
       "   (u'non-fat sour cream', 0.037499554691035129),\n",
       "   (u'dashi', 0.033584279538834236)]),\n",
       " (37,\n",
       "  [(u'chicken broth', 0.17999160062170194),\n",
       "   (u'chicken breasts', 0.10057712507317247),\n",
       "   (u'onions', 0.061890531149927513),\n",
       "   (u'crushed red pepper flakes', 0.053363655286096483),\n",
       "   (u'garlic', 0.053173533714141567),\n",
       "   (u'pepper', 0.040642865177376905),\n",
       "   (u'chopped parsley', 0.037946240223094396),\n",
       "   (u'salt', 0.03478408272649295),\n",
       "   (u'olive oil', 0.033766631399447015),\n",
       "   (u'bay leaf', 0.025032033012338396)]),\n",
       " (38,\n",
       "  [(u'olive oil', 0.063505123706221106),\n",
       "   (u'red wine vinegar', 0.060345068935401036),\n",
       "   (u'salt', 0.05420701528718614),\n",
       "   (u'parmesan cheese', 0.045452526393074011),\n",
       "   (u'garlic', 0.04061827178189608),\n",
       "   (u'fresh basil leaves', 0.040307700322139123),\n",
       "   (u'extra-virgin olive oil', 0.036865114941628689),\n",
       "   (u'pepper', 0.030579913039912917),\n",
       "   (u'ground black pepper', 0.02977115547725433),\n",
       "   (u'tomatoes', 0.02957153671210511)]),\n",
       " (39,\n",
       "  [(u'canola oil', 0.10058287392851883),\n",
       "   (u'fresh lime juice', 0.066165172933974017),\n",
       "   (u'chopped cilantro fresh', 0.062742696003273632),\n",
       "   (u'kosher salt', 0.058468985000598515),\n",
       "   (u'garlic cloves', 0.05362627342252551),\n",
       "   (u'peeled fresh ginger', 0.034495694785873658),\n",
       "   (u'chiles', 0.030200642640448916),\n",
       "   (u'vegetable oil', 0.02945956893401229),\n",
       "   (u'serrano chile', 0.027665437336932008),\n",
       "   (u'boneless chicken skinless thigh', 0.025502752658135543)])]"
      ]
     },
     "execution_count": 9,
     "metadata": {},
     "output_type": "execute_result"
    }
   ],
   "source": [
    "top = ldamodel.show_topics(40, 10, formatted=False)\n",
    "top"
   ]
  },
  {
   "cell_type": "code",
   "execution_count": 10,
   "metadata": {
    "collapsed": false
   },
   "outputs": [],
   "source": [
    "top = ldamodel.show_topics(40, 10, formatted=False)\n",
    "all_words = dict()\n",
    "for i in top:\n",
    "    for j in i[1]:\n",
    "        if j[0] in all_words.keys():\n",
    "            all_words[j[0]] += 1\n",
    "        else:\n",
    "            all_words[j[0]] = 1"
   ]
  },
  {
   "cell_type": "code",
   "execution_count": 11,
   "metadata": {
    "collapsed": false
   },
   "outputs": [
    {
     "data": {
      "text/plain": [
       "[20, 7, 8, 1, 1, 1]"
      ]
     },
     "execution_count": 11,
     "metadata": {},
     "output_type": "execute_result"
    }
   ],
   "source": [
    "words_to_find = [\"salt\", \"sugar\", \"water\", \"mushrooms\", \"chicken\", \"eggs\"]\n",
    "answers_1 = [all_words[x] for x in words_to_find]\n",
    "answers_1"
   ]
  },
  {
   "cell_type": "code",
   "execution_count": 12,
   "metadata": {
    "collapsed": true
   },
   "outputs": [],
   "source": [
    "def save_answers1(c_salt, c_sugar, c_water, c_mushrooms, c_chicken, c_eggs):\n",
    "    with open(\"cooking_LDA_pa_task1.txt\", \"w\") as fout:\n",
    "        fout.write(\" \".join([str(el) for el in [c_salt, c_sugar, c_water, c_mushrooms, c_chicken, c_eggs]]))"
   ]
  },
  {
   "cell_type": "code",
   "execution_count": 13,
   "metadata": {
    "collapsed": false
   },
   "outputs": [],
   "source": [
    "save_answers1(*answers_1)"
   ]
  },
  {
   "cell_type": "markdown",
   "metadata": {},
   "source": [
    "### Фильтрация словаря\n",
    "В топах тем гораздо чаще встречаются первые три рассмотренных ингредиента, чем последние три. При этом наличие в рецепте курицы, яиц и грибов яснее дает понять, что мы будем готовить, чем наличие соли, сахара и воды. Таким образом, даже в рецептах есть слова, часто встречающиеся в текстах и не несущие смысловой нагрузки, и поэтому их не желательно видеть в темах. Наиболее простой прием борьбы с такими фоновыми элементами - фильтрация словаря по частоте. Обычно словарь фильтруют с двух сторон: убирают очень редкие слова (в целях экономии памяти) и очень частые слова (в целях повышения интерпретируемости тем). Мы уберем только частые слова."
   ]
  },
  {
   "cell_type": "code",
   "execution_count": 14,
   "metadata": {
    "collapsed": true
   },
   "outputs": [],
   "source": [
    "import copy\n",
    "answers2 = []\n",
    "dictionary2 = copy.deepcopy(dictionary)\n",
    "answers2.append(len(dictionary2.dfs))\n",
    "corpus2 = [dictionary2.doc2bow(text) for text in texts]  # составляем корпус документов"
   ]
  },
  {
   "cell_type": "markdown",
   "metadata": {},
   "source": [
    "__Задание 2.__ У объекта dictionary2 есть переменная dfs - это словарь, ключами которого являются id токена, а элементами - число раз, сколько слово встретилось во всей коллекции. Сохраните в отдельный список ингредиенты, которые встретились в коллекции больше 4000 раз. Вызовите метод словаря filter_tokens, подав в качестве первого аргумента полученный список популярных ингредиентов. Вычислите две величины: dict_size_before и dict_size_after - размер словаря до и после фильтрации.\n",
    "\n",
    "Затем, используя новый словарь, создайте новый корпус документов, corpus2, по аналогии с тем, как это сделано в начале ноутбука. Вычислите две величины: corpus_size_before и corpus_size_after - суммарное количество ингредиентов в корпусе до и после фильтрации.\n",
    "\n",
    "Передайте величины dict_size_before, dict_size_after, corpus_size_before, corpus_size_after в функцию save_answers2 и загрузите сгенерированный файл в форму."
   ]
  },
  {
   "cell_type": "code",
   "execution_count": 15,
   "metadata": {
    "collapsed": false
   },
   "outputs": [],
   "source": [
    "most_freq_words = [ key for key, value in dictionary2.dfs.iteritems() if value > 4000 ]"
   ]
  },
  {
   "cell_type": "code",
   "execution_count": 16,
   "metadata": {
    "collapsed": false
   },
   "outputs": [],
   "source": [
    "dictionary2.filter_tokens(most_freq_words)\n",
    "answers2.append(len(dictionary2.dfs))"
   ]
  },
  {
   "cell_type": "code",
   "execution_count": 17,
   "metadata": {
    "collapsed": false
   },
   "outputs": [],
   "source": [
    "def corpus_size(corp):\n",
    "    s = 0\n",
    "    for i in corp:\n",
    "        s += len(i)\n",
    "    return(s)"
   ]
  },
  {
   "cell_type": "code",
   "execution_count": 18,
   "metadata": {
    "collapsed": false
   },
   "outputs": [
    {
     "data": {
      "text/plain": [
       "428249"
      ]
     },
     "execution_count": 18,
     "metadata": {},
     "output_type": "execute_result"
    }
   ],
   "source": [
    "corpus_size(corpus2)"
   ]
  },
  {
   "cell_type": "code",
   "execution_count": 19,
   "metadata": {
    "collapsed": false
   },
   "outputs": [],
   "source": [
    "answers2.append(corpus_size(corpus2))\n",
    "corpus2 = [dictionary2.doc2bow(text) for text in texts]  # составляем корпус документов\n",
    "answers2.append(corpus_size(corpus2))"
   ]
  },
  {
   "cell_type": "code",
   "execution_count": 20,
   "metadata": {
    "collapsed": true
   },
   "outputs": [],
   "source": [
    "def save_answers2(dict_size_before, dict_size_after, corpus_size_before, corpus_size_after):\n",
    "    with open(\"cooking_LDA_pa_task2.txt\", \"w\") as fout:\n",
    "        fout.write(\" \".join([str(el) for el in [dict_size_before, dict_size_after, corpus_size_before, corpus_size_after]]))"
   ]
  },
  {
   "cell_type": "code",
   "execution_count": 21,
   "metadata": {
    "collapsed": false
   },
   "outputs": [],
   "source": [
    "save_answers2(*answers2)"
   ]
  },
  {
   "cell_type": "markdown",
   "metadata": {},
   "source": [
    "### Сравнение когерентностей\n",
    "__Задание 3.__ Постройте еще одну модель по корпусу corpus2 и словарю dictioanary2, остальные параметры оставьте такими же, как при первом построении модели. Сохраните новую модель в другую переменную (не перезаписывайте предыдущую модель). Не забудьте про фиксирование seed!\n",
    "\n",
    "Затем воспользуйтесь методом top_topics модели, чтобы вычислить ее когерентность. Передайте в качестве аргумента соответствующий модели корпус. Метод вернет список кортежей (топ токенов, когерентность), отсортированных по убыванию последней. Вычислите среднюю по всем темам когерентность для каждой из двух моделей и передайте в функцию save_answers3. "
   ]
  },
  {
   "cell_type": "code",
   "execution_count": 22,
   "metadata": {
    "collapsed": false
   },
   "outputs": [
    {
     "name": "stdout",
     "output_type": "stream",
     "text": [
      "CPU times: user 1min 41s, sys: 1.74 s, total: 1min 42s\n",
      "Wall time: 1min 44s\n"
     ]
    }
   ],
   "source": [
    "np.random.seed(76543)\n",
    "%time ldamodel2 = models.ldamodel.LdaModel(corpus2, id2word=dictionary2, num_topics=40, passes=5)"
   ]
  },
  {
   "cell_type": "code",
   "execution_count": 23,
   "metadata": {
    "collapsed": true
   },
   "outputs": [],
   "source": [
    "answer3 = []\n",
    "coh = ldamodel.top_topics(corpus)\n",
    "l = [x[1] for x in coh]\n",
    "answer3.append(np.mean(l))"
   ]
  },
  {
   "cell_type": "code",
   "execution_count": 24,
   "metadata": {
    "collapsed": false
   },
   "outputs": [],
   "source": [
    "coh2 = ldamodel2.top_topics(corpus2)\n",
    "l2 = [x[1] for x in coh2]\n",
    "answer3.append(np.mean(l2))"
   ]
  },
  {
   "cell_type": "code",
   "execution_count": 25,
   "metadata": {
    "collapsed": true
   },
   "outputs": [],
   "source": [
    "def save_answers3(coherence, coherence2):\n",
    "    with open(\"cooking_LDA_pa_task3.txt\", \"w\") as fout:\n",
    "        fout.write(\" \".join([\"%3f\"%el for el in [coherence, coherence2]]))"
   ]
  },
  {
   "cell_type": "code",
   "execution_count": 26,
   "metadata": {
    "collapsed": true
   },
   "outputs": [],
   "source": [
    "save_answers3(*answer3)"
   ]
  },
  {
   "cell_type": "code",
   "execution_count": 27,
   "metadata": {
    "collapsed": false
   },
   "outputs": [
    {
     "data": {
      "text/plain": [
       "([(0.083066168029453977, u'jalapeno chilies'),\n",
       "  (0.056955722717904549, u'ground cumin'),\n",
       "  (0.053910043986643036, u'lime'),\n",
       "  (0.050615164653937936, u'purple onion'),\n",
       "  (0.047999245484533909, u'avocado'),\n",
       "  (0.044710047797010682, u'chopped cilantro fresh'),\n",
       "  (0.044436588779461932, u'lime juice'),\n",
       "  (0.038591293771676118, u'white onion'),\n",
       "  (0.035384621263101684, u'cilantro'),\n",
       "  (0.034791083717954585, u'corn tortillas'),\n",
       "  (0.033342972765510806, u'tomatoes'),\n",
       "  (0.030827000591453359, u'fresh cilantro'),\n",
       "  (0.026279542046657209, u'kosher salt'),\n",
       "  (0.025527223830998425, u'fresh lime juice'),\n",
       "  (0.023426161529818856, u'chopped cilantro'),\n",
       "  (0.019138788330758463, u'chili powder'),\n",
       "  (0.018224438218551166, u'shredded Monterey Jack cheese'),\n",
       "  (0.0180583953006749, u'tomatillos'),\n",
       "  (0.01671507541880804, u'cilantro leaves'),\n",
       "  (0.015370402880431025, u'black beans')],\n",
       " -467.48844984047361)"
      ]
     },
     "execution_count": 27,
     "metadata": {},
     "output_type": "execute_result"
    }
   ],
   "source": [
    "coh2[1]"
   ]
  },
  {
   "cell_type": "markdown",
   "metadata": {},
   "source": [
    "Считается, что когерентность хорошо соотносится с человеческими оценками интерпретируемости тем. Поэтому на больших текстовых коллекциях когерентность обычно повышается, если убрать фоновую лексику. Однако в нашем случае этого не произошло. "
   ]
  },
  {
   "cell_type": "markdown",
   "metadata": {},
   "source": [
    "### Изучение влияния гиперпараметра alpha"
   ]
  },
  {
   "cell_type": "markdown",
   "metadata": {},
   "source": [
    "В этом разделе мы будем работать со второй моделью, то есть той, которая построена по сокращенному корпусу. \n",
    "\n",
    "Пока что мы посмотрели только на матрицу темы-слова, теперь давайте посмотрим на матрицу темы-документы. Выведите темы для нулевого (или любого другого) документа из корпуса, воспользовавшись методом get_document_topics второй модели:"
   ]
  },
  {
   "cell_type": "code",
   "execution_count": 28,
   "metadata": {
    "collapsed": false
   },
   "outputs": [
    {
     "data": {
      "text/plain": [
       "[(4, 0.12812499999999991),\n",
       " (15, 0.32368464962559057),\n",
       " (22, 0.27665871617377874),\n",
       " (37, 0.15903163420063016)]"
      ]
     },
     "execution_count": 28,
     "metadata": {},
     "output_type": "execute_result"
    }
   ],
   "source": [
    "doc = list(corpus2)[0]\n",
    "ldamodel2.get_document_topics(doc)"
   ]
  },
  {
   "cell_type": "markdown",
   "metadata": {},
   "source": [
    "Также выведите содержимое переменной .alpha второй модели:"
   ]
  },
  {
   "cell_type": "code",
   "execution_count": 29,
   "metadata": {
    "collapsed": false
   },
   "outputs": [
    {
     "data": {
      "text/plain": [
       "array([ 0.025,  0.025,  0.025,  0.025,  0.025,  0.025,  0.025,  0.025,\n",
       "        0.025,  0.025,  0.025,  0.025,  0.025,  0.025,  0.025,  0.025,\n",
       "        0.025,  0.025,  0.025,  0.025,  0.025,  0.025,  0.025,  0.025,\n",
       "        0.025,  0.025,  0.025,  0.025,  0.025,  0.025,  0.025,  0.025,\n",
       "        0.025,  0.025,  0.025,  0.025,  0.025,  0.025,  0.025,  0.025])"
      ]
     },
     "execution_count": 29,
     "metadata": {},
     "output_type": "execute_result"
    }
   ],
   "source": [
    "ldamodel2.alpha"
   ]
  },
  {
   "cell_type": "markdown",
   "metadata": {},
   "source": [
    "У вас должно получиться, что документ характеризуется небольшим числом тем. Попробуем поменять гиперпараметр alpha, задающий априорное распределение Дирихле для распределений тем в документах."
   ]
  },
  {
   "cell_type": "markdown",
   "metadata": {},
   "source": [
    "__Задание 4.__ Обучите третью модель: используйте сокращенный корпус (corpus2 и dictionary2) и установите параметр __alpha=1__, passes=5. Не забудьте про фиксацию seed! Выведите темы новой модели для нулевого документа; должно получиться, что распределение над множеством тем практически равномерное. Чтобы убедиться в том, что во второй модели документы описываются гораздо более разреженными распределениями, чем в третьей, посчитайте суммарное количество элементов, __превосходящих 0.01__, в матрицах темы-документы обеих моделей. Другими словами, запросите темы  модели для каждого документа с параметром minimum_probability=0.01 и просуммируйте число элементов в получаемых массивах. Передайте две суммы (сначала для модели с alpha по умолчанию, затем для модели в alpha=1) в функцию save_answers4."
   ]
  },
  {
   "cell_type": "code",
   "execution_count": 30,
   "metadata": {
    "collapsed": false
   },
   "outputs": [
    {
     "name": "stdout",
     "output_type": "stream",
     "text": [
      "CPU times: user 1min 29s, sys: 3.57 s, total: 1min 32s\n",
      "Wall time: 1min 41s\n"
     ]
    }
   ],
   "source": [
    "np.random.seed(76543)\n",
    "%time ldamodel3 = models.ldamodel.LdaModel(corpus2, id2word=dictionary2, num_topics=40, passes=5, alpha=1)"
   ]
  },
  {
   "cell_type": "code",
   "execution_count": 31,
   "metadata": {
    "collapsed": false
   },
   "outputs": [
    {
     "data": {
      "text/plain": [
       "40"
      ]
     },
     "execution_count": 31,
     "metadata": {},
     "output_type": "execute_result"
    }
   ],
   "source": [
    "doc = list(corpus2)[0]\n",
    "l = ldamodel3.get_document_topics(doc, minimum_probability=0.01)\n",
    "len(l)"
   ]
  },
  {
   "cell_type": "code",
   "execution_count": 32,
   "metadata": {
    "collapsed": false
   },
   "outputs": [
    {
     "name": "stdout",
     "output_type": "stream",
     "text": [
      "[(0, 0.021286339911783476), (1, 0.021298577346579476), (2, 0.021320026603340793), (3, 0.02128210662389507), (4, 0.02127659574468084), (5, 0.02149670782318909), (6, 0.021292167790540873), (7, 0.042559702790908871), (8, 0.021276634036199265), (9, 0.02127659574468084), (10, 0.021574422982009806), (11, 0.021287564283329737), (12, 0.021277423964216721), (13, 0.084098491644676573), (14, 0.021290098381339068), (15, 0.021695989368704635), (16, 0.021284449394956988), (17, 0.021280068768146476), (18, 0.021339999335653555), (19, 0.021278462099480339), (20, 0.021276595744752765), (21, 0.021334068245180231), (22, 0.021281169590094972), (23, 0.021394817815465535), (24, 0.021288018305574041), (25, 0.062707669642621824), (26, 0.021292240904092166), (27, 0.021292322032652834), (28, 0.021307399594800262), (29, 0.021434648197441158), (30, 0.021432289931378291), (31, 0.021282083383046806), (32, 0.021325711962165886), (33, 0.042881497990464638), (34, 0.021276595744680951), (35, 0.021282057630228349), (36, 0.021303881331572749), (37, 0.02127659574468084), (38, 0.021276841622873806), (39, 0.02128106994791892)]\n"
     ]
    }
   ],
   "source": [
    "dt = ldamodel3.get_document_topics(doc, minimum_probability=0.01)\n",
    "print dt"
   ]
  },
  {
   "cell_type": "code",
   "execution_count": 33,
   "metadata": {
    "collapsed": false
   },
   "outputs": [],
   "source": [
    "s = 0\n",
    "for i in range(len(corpus2)):\n",
    "    doc = list(corpus2)[i]\n",
    "    l = ldamodel2.get_document_topics(doc, minimum_probability=0.01)\n",
    "    s += len(l)\n",
    "    \n",
    "answer4 = []\n",
    "answer4.append(s)\n",
    "\n",
    "s = 0\n",
    "for i in range(len(corpus2)):\n",
    "    doc = list(corpus2)[i]\n",
    "    l = ldamodel3.get_document_topics(doc, minimum_probability=0.01)\n",
    "    s += len(l)\n",
    "    \n",
    "answer4.append(s)"
   ]
  },
  {
   "cell_type": "code",
   "execution_count": 34,
   "metadata": {
    "collapsed": true
   },
   "outputs": [],
   "source": [
    "def save_answers4(count_model2, count_model3):\n",
    "    with open(\"cooking_LDA_pa_task4.txt\", \"w\") as fout:\n",
    "        fout.write(\" \".join([str(el) for el in [count_model2, count_model3]]))"
   ]
  },
  {
   "cell_type": "code",
   "execution_count": 35,
   "metadata": {
    "collapsed": true
   },
   "outputs": [],
   "source": [
    "save_answers4(*answer4)"
   ]
  },
  {
   "cell_type": "markdown",
   "metadata": {},
   "source": [
    "Таким образом, гиперпараметр alpha влияет на разреженность распределений тем в документах. Аналогично гиперпараметр eta влияет на разреженность распределений слов в темах."
   ]
  },
  {
   "cell_type": "markdown",
   "metadata": {},
   "source": [
    "### LDA как способ понижения размерности\n",
    "Иногда распределения над темами, найденные с помощью LDA, добавляют в матрицу объекты-признаки как дополнительные, семантические, признаки, и это может улучшить качество решения задачи. Для простоты давайте просто обучим классификатор рецептов на кухни на признаках, полученных из LDA, и измерим точность (accuracy).\n",
    "\n",
    "__Задание 5.__ Используйте модель, построенную по сокращенной выборке с alpha по умолчанию (вторую модель). Составьте матрицу $\\Theta = p(t|d)$ вероятностей тем в документах; вы можете использовать тот же метод get_document_topics, а также вектор правильных ответов y (в том же порядке, в котором рецепты идут в переменной recipes). Создайте объект RandomForestClassifier со 100 деревьями, с помощью функции cross_val_score вычислите среднюю accuracy по трем фолдам (перемешивать данные не нужно) и передайте в функцию save_answers5."
   ]
  },
  {
   "cell_type": "code",
   "execution_count": 36,
   "metadata": {
    "collapsed": true
   },
   "outputs": [],
   "source": [
    "from sklearn.ensemble import RandomForestClassifier\n",
    "from sklearn.cross_validation import cross_val_score\n",
    "from sklearn import preprocessing"
   ]
  },
  {
   "cell_type": "code",
   "execution_count": 37,
   "metadata": {
    "collapsed": false
   },
   "outputs": [],
   "source": [
    "le = preprocessing.LabelEncoder()\n",
    "le.fit(y)\n",
    "id = le.fit_transform(y)"
   ]
  },
  {
   "cell_type": "code",
   "execution_count": 38,
   "metadata": {
    "collapsed": false
   },
   "outputs": [
    {
     "data": {
      "text/plain": [
       "(39774, 40)"
      ]
     },
     "execution_count": 38,
     "metadata": {},
     "output_type": "execute_result"
    }
   ],
   "source": [
    "X = np.zeros((len(y), 40))\n",
    "for i, doc in enumerate(list(corpus2)):\n",
    "    l = ldamodel2.get_document_topics(doc, minimum_probability=0)\n",
    "    for j, prob in enumerate(l):\n",
    "        X[i][j] = prob[1]\n",
    "X.shape"
   ]
  },
  {
   "cell_type": "code",
   "execution_count": 39,
   "metadata": {
    "collapsed": false
   },
   "outputs": [
    {
     "data": {
      "text/plain": [
       "0.15921911768763952"
      ]
     },
     "execution_count": 39,
     "metadata": {},
     "output_type": "execute_result"
    }
   ],
   "source": [
    "X[0][37]"
   ]
  },
  {
   "cell_type": "code",
   "execution_count": 40,
   "metadata": {
    "collapsed": false
   },
   "outputs": [],
   "source": [
    "clf = RandomForestClassifier(n_estimators=100)"
   ]
  },
  {
   "cell_type": "code",
   "execution_count": 41,
   "metadata": {
    "collapsed": false
   },
   "outputs": [
    {
     "data": {
      "text/plain": [
       "0.56024062315277823"
      ]
     },
     "execution_count": 41,
     "metadata": {},
     "output_type": "execute_result"
    }
   ],
   "source": [
    "scores = cross_val_score(clf, X, id, cv=3, scoring='accuracy')\n",
    "np.mean(scores)"
   ]
  },
  {
   "cell_type": "code",
   "execution_count": 42,
   "metadata": {
    "collapsed": false
   },
   "outputs": [],
   "source": [
    "def save_answers5(accuracy):\n",
    "     with open(\"cooking_LDA_pa_task5.txt\", \"w\") as fout:\n",
    "        fout.write(str(accuracy))\n",
    "save_answers5(np.mean(scores))"
   ]
  },
  {
   "cell_type": "markdown",
   "metadata": {},
   "source": [
    "Для такого большого количества классов это неплохая точность. Вы можете попроовать обучать RandomForest на исходной матрице частот слов, имеющей значительно большую размерность, и увидеть, что accuracy увеличивается на 10-15%. Таким образом, LDA собрал не всю, но достаточно большую часть информации из выборки, в матрице низкого ранга."
   ]
  },
  {
   "cell_type": "markdown",
   "metadata": {},
   "source": [
    "### LDA --- вероятностная модель\n",
    "Матричное разложение, использующееся в LDA, интерпретируется как следующий процесс генерации документов.\n",
    "\n",
    "Для документа $d$ длины $n_d$:\n",
    "1. Из априорного распределения Дирихле с параметром alpha сгенерировать распределение над множеством тем: $\\theta_d \\sim Dirichlet(\\alpha)$\n",
    "1. Для каждого слова $w = 1, \\dots, n_d$:\n",
    "    1. Сгенерировать тему из дискретного распределения $t \\sim \\theta_{d}$\n",
    "    1. Сгенерировать слово из дискретного распределения $w \\sim \\phi_{t}$.\n",
    "    \n",
    "Подробнее об этом в [Википедии](https://en.wikipedia.org/wiki/Latent_Dirichlet_allocation).\n",
    "\n",
    "В контексте нашей задачи получается, что, используя данный генеративный процесс, можно создавать новые рецепты. Вы можете передать в функцию модель и число ингредиентов и сгенерировать рецепт :)"
   ]
  },
  {
   "cell_type": "code",
   "execution_count": 43,
   "metadata": {
    "collapsed": false
   },
   "outputs": [],
   "source": [
    "def generate_recipe(model, num_ingredients):\n",
    "    theta = np.random.dirichlet(model.alpha)\n",
    "    for i in range(num_ingredients):\n",
    "        t = np.random.choice(np.arange(model.num_topics), p=theta)\n",
    "        topic = model.show_topic(0, topn=model.num_terms)\n",
    "        topic_distr = [x[1] for x in topic]\n",
    "        terms = [x[0] for x in topic]\n",
    "        w = np.random.choice(terms, p=topic_distr)\n",
    "        print w"
   ]
  },
  {
   "cell_type": "code",
   "execution_count": 44,
   "metadata": {
    "collapsed": false
   },
   "outputs": [
    {
     "name": "stdout",
     "output_type": "stream",
     "text": [
      "chili powder\n",
      "sour cream\n",
      "diced tomatoes\n",
      "flour tortillas\n",
      "guacamole\n",
      "diced tomatoes\n",
      "sour cream\n"
     ]
    }
   ],
   "source": [
    "generate_recipe(ldamodel2, 7)"
   ]
  },
  {
   "cell_type": "markdown",
   "metadata": {},
   "source": [
    "### Интерпретация построенной модели\n",
    "Вы можете рассмотреть топы ингредиентов каждой темы. Большиснтво тем сами по себе похожи на рецепты; в некоторых собираются продукты одного вида, например, свежие фрукты или разные виды сыра.\n",
    "\n",
    "Попробуем эмпирически соотнести наши темы с национальными кухнями (cuisine). Построим матрицу A размера темы x кухни, ее элементы $a_{tc}$ - суммы p(t|d) по всем документам d, которые отнесены к кухне c. Нормируем матрицу на частоты рецептов по разным кухням, чтобы избежать дисбаланса между кухнями. Следующая функция получает на вход объект модели, объект корпуса и исходные данные и возвращает нормированную матрицу A. Ее удобно визуализировать с помощью seaborn."
   ]
  },
  {
   "cell_type": "code",
   "execution_count": 45,
   "metadata": {
    "collapsed": true
   },
   "outputs": [],
   "source": [
    "import pandas\n",
    "import seaborn\n",
    "from matplotlib import pyplot as plt\n",
    "%matplotlib inline"
   ]
  },
  {
   "cell_type": "code",
   "execution_count": 46,
   "metadata": {
    "collapsed": true
   },
   "outputs": [],
   "source": [
    "def compute_topic_cuisine_matrix(model, corpus, recipes):\n",
    "    # составляем вектор целевых признаков\n",
    "    targets = list(set([recipe[\"cuisine\"] for recipe in recipes]))\n",
    "    # составляем матрицу\n",
    "    tc_matrix = pandas.DataFrame(data=np.zeros((model.num_topics, len(targets))), columns=targets)\n",
    "    for recipe, bow in zip(recipes, corpus):\n",
    "        recipe_topic = model.get_document_topics(bow)\n",
    "        for t, prob in recipe_topic:\n",
    "            tc_matrix[recipe[\"cuisine\"]][t] += prob\n",
    "    # нормируем матрицу\n",
    "    target_sums = pandas.DataFrame(data=np.zeros((1, len(targets))), columns=targets)\n",
    "    for recipe in recipes:\n",
    "        target_sums[recipe[\"cuisine\"]] += 1\n",
    "    return pandas.DataFrame(tc_matrix.values/target_sums.values, columns=tc_matrix.columns)"
   ]
  },
  {
   "cell_type": "code",
   "execution_count": 47,
   "metadata": {
    "collapsed": true
   },
   "outputs": [],
   "source": [
    "def plot_matrix(tc_matrix):\n",
    "    plt.figure(figsize=(10, 10))\n",
    "    seaborn.heatmap(tc_matrix, square=True)"
   ]
  },
  {
   "cell_type": "code",
   "execution_count": 48,
   "metadata": {
    "collapsed": false
   },
   "outputs": [
    {
     "data": {
      "image/png": "[encoded data removed]",
      "text/plain": [
       "<matplotlib.figure.Figure at 0x11d073150>"
      ]
     },
     "metadata": {},
     "output_type": "display_data"
    }
   ],
   "source": [
    "# Визуализируйте матрицу\n",
    "m = compute_topic_cuisine_matrix(ldamodel, corpus, recipes)\n",
    "plot_matrix(m)"
   ]
  },
  {
   "cell_type": "markdown",
   "metadata": {},
   "source": [
    "Чем темнее квадрат в матрице, тем больше связь этой темы с данной кухней. Мы видим, что у нас есть темы, которые связаны с несколькими кухнями. Такие темы показывают набор ингредиентов, которые популярны в кухнях нескольких народов, то есть указывают на схожесть кухонь этих народов. Некоторые темы распределены по всем кухням равномерно, они показывают наборы продуктов, которые часто используются в кулинарии всех стран. "
   ]
  },
  {
   "cell_type": "markdown",
   "metadata": {},
   "source": [
    "Жаль, что в датасете нет названий рецептов, иначе темы было бы проще интерпретировать..."
   ]
  },
  {
   "cell_type": "markdown",
   "metadata": {},
   "source": [
    "### Заключение\n",
    "В этом задании вы построили несколько моделей LDA, посмотрели, на что влияют гиперпараметры модели и как можно использовать построенную модель. "
   ]
  }
 ],
 "metadata": {
  "kernelspec": {
   "display_name": "Python 2",
   "language": "python",
   "name": "python2"
  },
  "language_info": {
   "codemirror_mode": {
    "name": "ipython",
    "version": 2
   },
   "file_extension": ".py",
   "mimetype": "text/x-python",
   "name": "python",
   "nbconvert_exporter": "python",
   "pygments_lexer": "ipython2",
   "version": "2.7.11"
  }
 },
 "nbformat": 4,
 "nbformat_minor": 0
}
